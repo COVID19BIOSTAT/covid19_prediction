{
 "cells": [
  {
   "cell_type": "code",
   "execution_count": 1,
   "metadata": {},
   "outputs": [],
   "source": [
    "import numpy as np\n",
    "import pandas as pd\n",
    "import altair as alt\n",
    "import datetime"
   ]
  },
  {
   "cell_type": "code",
   "execution_count": 6,
   "metadata": {},
   "outputs": [],
   "source": [
    "train_data = np.load(\"train_data.npy\")"
   ]
  },
  {
   "cell_type": "code",
   "execution_count": 2,
   "metadata": {},
   "outputs": [],
   "source": [
    "pred_new_obs = np.load(\"output/predicted_daily_observed.npy\")\n",
    "infection_a0 = np.load(\"output/predicted_infection_rate.npy\")\n",
    "infection_r0 = np.load(\"output/predicted_reproduction_number.npy\")"
   ]
  },
  {
   "cell_type": "code",
   "execution_count": 3,
   "metadata": {},
   "outputs": [],
   "source": [
    "firstday = datetime.datetime(2020, 2, 20)\n",
    "infdf_a0 = pd.DataFrame({'rate': infection_a0[:80],\n",
    "                     'date': [(firstday + datetime.timedelta(days=i)) for i in range(0,80)],\n",
    "                        'type': 'infection_rate'})\n",
    "infdf_r0 = pd.DataFrame({'rate': infection_r0[:80],\n",
    "                     'date': [(firstday + datetime.timedelta(days=i)) for i in range(0,80)],\n",
    "                        'type': 'reproduction_number'})\n",
    "infdf = pd.concat([infdf_a0, infdf_r0])"
   ]
  },
  {
   "cell_type": "code",
   "execution_count": 4,
   "metadata": {},
   "outputs": [
    {
     "data": {
      "text/html": [
       "\n",
       "<div id=\"altair-viz-d2f7f532ced04c62a38908d3576c8e15\"></div>\n",
       "<script type=\"text/javascript\">\n",
       "  (function(spec, embedOpt){\n",
       "    let outputDiv = document.currentScript.previousElementSibling;\n",
       "    if (outputDiv.id !== \"altair-viz-d2f7f532ced04c62a38908d3576c8e15\") {\n",
       "      outputDiv = document.getElementById(\"altair-viz-d2f7f532ced04c62a38908d3576c8e15\");\n",
       "    }\n",
       "    const paths = {\n",
       "      \"vega\": \"https://cdn.jsdelivr.net/npm//vega@5?noext\",\n",
       "      \"vega-lib\": \"https://cdn.jsdelivr.net/npm//vega-lib?noext\",\n",
       "      \"vega-lite\": \"https://cdn.jsdelivr.net/npm//vega-lite@4.8.1?noext\",\n",
       "      \"vega-embed\": \"https://cdn.jsdelivr.net/npm//vega-embed@6?noext\",\n",
       "    };\n",
       "\n",
       "    function loadScript(lib) {\n",
       "      return new Promise(function(resolve, reject) {\n",
       "        var s = document.createElement('script');\n",
       "        s.src = paths[lib];\n",
       "        s.async = true;\n",
       "        s.onload = () => resolve(paths[lib]);\n",
       "        s.onerror = () => reject(`Error loading script: ${paths[lib]}`);\n",
       "        document.getElementsByTagName(\"head\")[0].appendChild(s);\n",
       "      });\n",
       "    }\n",
       "\n",
       "    function showError(err) {\n",
       "      outputDiv.innerHTML = `<div class=\"error\" style=\"color:red;\">${err}</div>`;\n",
       "      throw err;\n",
       "    }\n",
       "\n",
       "    function displayChart(vegaEmbed) {\n",
       "      vegaEmbed(outputDiv, spec, embedOpt)\n",
       "        .catch(err => showError(`Javascript Error: ${err.message}<br>This usually means there's a typo in your chart specification. See the javascript console for the full traceback.`));\n",
       "    }\n",
       "\n",
       "    if(typeof define === \"function\" && define.amd) {\n",
       "      requirejs.config({paths});\n",
       "      require([\"vega-embed\"], displayChart, err => showError(`Error loading script: ${err.message}`));\n",
       "    } else if (typeof vegaEmbed === \"function\") {\n",
       "      displayChart(vegaEmbed);\n",
       "    } else {\n",
       "      loadScript(\"vega\")\n",
       "        .then(() => loadScript(\"vega-lite\"))\n",
       "        .then(() => loadScript(\"vega-embed\"))\n",
       "        .catch(showError)\n",
       "        .then(() => displayChart(vegaEmbed));\n",
       "    }\n",
       "  })({\"config\": {\"view\": {\"continuousWidth\": 400, \"continuousHeight\": 300}}, \"data\": {\"name\": \"data-1033ff94b680663701ac8e3615edf46c\"}, \"mark\": {\"type\": \"line\", \"point\": true, \"size\": 2}, \"encoding\": {\"color\": {\"type\": \"nominal\", \"field\": \"type\"}, \"x\": {\"type\": \"temporal\", \"field\": \"date\"}, \"y\": {\"type\": \"quantitative\", \"field\": \"rate\", \"title\": \"Infection rate/Rt\"}}, \"selection\": {\"selector001\": {\"type\": \"interval\", \"bind\": \"scales\", \"encodings\": [\"x\", \"y\"]}}, \"title\": \"\", \"$schema\": \"https://vega.github.io/schema/vega-lite/v4.8.1.json\", \"datasets\": {\"data-1033ff94b680663701ac8e3615edf46c\": [{\"rate\": 0.6780893685311231, \"date\": \"2020-02-20T00:00:00\", \"type\": \"infection_rate\"}, {\"rate\": 0.6762039733476973, \"date\": \"2020-02-21T00:00:00\", \"type\": \"infection_rate\"}, {\"rate\": 0.6743185781642715, \"date\": \"2020-02-22T00:00:00\", \"type\": \"infection_rate\"}, {\"rate\": 0.6724331829808456, \"date\": \"2020-02-23T00:00:00\", \"type\": \"infection_rate\"}, {\"rate\": 0.6705477877974199, \"date\": \"2020-02-24T00:00:00\", \"type\": \"infection_rate\"}, {\"rate\": 0.668662392613994, \"date\": \"2020-02-25T00:00:00\", \"type\": \"infection_rate\"}, {\"rate\": 0.6667769974305682, \"date\": \"2020-02-26T00:00:00\", \"type\": \"infection_rate\"}, {\"rate\": 0.6648916022471424, \"date\": \"2020-02-27T00:00:00\", \"type\": \"infection_rate\"}, {\"rate\": 0.6630062070637166, \"date\": \"2020-02-28T00:00:00\", \"type\": \"infection_rate\"}, {\"rate\": 0.6611208118802907, \"date\": \"2020-02-29T00:00:00\", \"type\": \"infection_rate\"}, {\"rate\": 0.6592354166968649, \"date\": \"2020-03-01T00:00:00\", \"type\": \"infection_rate\"}, {\"rate\": 0.6573500215134391, \"date\": \"2020-03-02T00:00:00\", \"type\": \"infection_rate\"}, {\"rate\": 0.6554646263300132, \"date\": \"2020-03-03T00:00:00\", \"type\": \"infection_rate\"}, {\"rate\": 0.6535792311465876, \"date\": \"2020-03-04T00:00:00\", \"type\": \"infection_rate\"}, {\"rate\": 0.6516938359631617, \"date\": \"2020-03-05T00:00:00\", \"type\": \"infection_rate\"}, {\"rate\": 0.6498084407797359, \"date\": \"2020-03-06T00:00:00\", \"type\": \"infection_rate\"}, {\"rate\": 0.6479230455963101, \"date\": \"2020-03-07T00:00:00\", \"type\": \"infection_rate\"}, {\"rate\": 0.6460376504128842, \"date\": \"2020-03-08T00:00:00\", \"type\": \"infection_rate\"}, {\"rate\": 0.6441522552294584, \"date\": \"2020-03-09T00:00:00\", \"type\": \"infection_rate\"}, {\"rate\": 0.6422668600460325, \"date\": \"2020-03-10T00:00:00\", \"type\": \"infection_rate\"}, {\"rate\": 0.6403814648626067, \"date\": \"2020-03-11T00:00:00\", \"type\": \"infection_rate\"}, {\"rate\": 0.6384960696791809, \"date\": \"2020-03-12T00:00:00\", \"type\": \"infection_rate\"}, {\"rate\": 0.6366106744957551, \"date\": \"2020-03-13T00:00:00\", \"type\": \"infection_rate\"}, {\"rate\": 0.6190509778516883, \"date\": \"2020-03-14T00:00:00\", \"type\": \"infection_rate\"}, {\"rate\": 0.6014912812076213, \"date\": \"2020-03-15T00:00:00\", \"type\": \"infection_rate\"}, {\"rate\": 0.5839315845635545, \"date\": \"2020-03-16T00:00:00\", \"type\": \"infection_rate\"}, {\"rate\": 0.5663718879194877, \"date\": \"2020-03-17T00:00:00\", \"type\": \"infection_rate\"}, {\"rate\": 0.5488121912754207, \"date\": \"2020-03-18T00:00:00\", \"type\": \"infection_rate\"}, {\"rate\": 0.5312524946313538, \"date\": \"2020-03-19T00:00:00\", \"type\": \"infection_rate\"}, {\"rate\": 0.513692797987287, \"date\": \"2020-03-20T00:00:00\", \"type\": \"infection_rate\"}, {\"rate\": 0.4961331013432201, \"date\": \"2020-03-21T00:00:00\", \"type\": \"infection_rate\"}, {\"rate\": 0.4785734046991532, \"date\": \"2020-03-22T00:00:00\", \"type\": \"infection_rate\"}, {\"rate\": 0.4610137080550863, \"date\": \"2020-03-23T00:00:00\", \"type\": \"infection_rate\"}, {\"rate\": 0.4434540114110195, \"date\": \"2020-03-24T00:00:00\", \"type\": \"infection_rate\"}, {\"rate\": 0.4258943147669525, \"date\": \"2020-03-25T00:00:00\", \"type\": \"infection_rate\"}, {\"rate\": 0.4083346181228857, \"date\": \"2020-03-26T00:00:00\", \"type\": \"infection_rate\"}, {\"rate\": 0.39077492147881876, \"date\": \"2020-03-27T00:00:00\", \"type\": \"infection_rate\"}, {\"rate\": 0.3732152248347519, \"date\": \"2020-03-28T00:00:00\", \"type\": \"infection_rate\"}, {\"rate\": 0.355655528190685, \"date\": \"2020-03-29T00:00:00\", \"type\": \"infection_rate\"}, {\"rate\": 0.33809583154661815, \"date\": \"2020-03-30T00:00:00\", \"type\": \"infection_rate\"}, {\"rate\": 0.32053613490255123, \"date\": \"2020-03-31T00:00:00\", \"type\": \"infection_rate\"}, {\"rate\": 0.30297643825848436, \"date\": \"2020-04-01T00:00:00\", \"type\": \"infection_rate\"}, {\"rate\": 0.2854167416144175, \"date\": \"2020-04-02T00:00:00\", \"type\": \"infection_rate\"}, {\"rate\": 0.2678570449703506, \"date\": \"2020-04-03T00:00:00\", \"type\": \"infection_rate\"}, {\"rate\": 0.25029734832628375, \"date\": \"2020-04-04T00:00:00\", \"type\": \"infection_rate\"}, {\"rate\": 0.23273765168221686, \"date\": \"2020-04-05T00:00:00\", \"type\": \"infection_rate\"}, {\"rate\": 0.21517795503815, \"date\": \"2020-04-06T00:00:00\", \"type\": \"infection_rate\"}, {\"rate\": 0.19761825839408304, \"date\": \"2020-04-07T00:00:00\", \"type\": \"infection_rate\"}, {\"rate\": 0.18005856175001617, \"date\": \"2020-04-08T00:00:00\", \"type\": \"infection_rate\"}, {\"rate\": 0.1624988651059493, \"date\": \"2020-04-09T00:00:00\", \"type\": \"infection_rate\"}, {\"rate\": 0.14493916846188243, \"date\": \"2020-04-10T00:00:00\", \"type\": \"infection_rate\"}, {\"rate\": 0.12737947181781556, \"date\": \"2020-04-11T00:00:00\", \"type\": \"infection_rate\"}, {\"rate\": 0.10981977517374866, \"date\": \"2020-04-12T00:00:00\", \"type\": \"infection_rate\"}, {\"rate\": 0.0922600785296818, \"date\": \"2020-04-13T00:00:00\", \"type\": \"infection_rate\"}, {\"rate\": 0.07470038188561488, \"date\": \"2020-04-14T00:00:00\", \"type\": \"infection_rate\"}, {\"rate\": 0.05714068524154803, \"date\": \"2020-04-15T00:00:00\", \"type\": \"infection_rate\"}, {\"rate\": 0.03958098859748113, \"date\": \"2020-04-16T00:00:00\", \"type\": \"infection_rate\"}, {\"rate\": 0.022021291953414235, \"date\": \"2020-04-17T00:00:00\", \"type\": \"infection_rate\"}, {\"rate\": 0.004461595309347366, \"date\": \"2020-04-18T00:00:00\", \"type\": \"infection_rate\"}, {\"rate\": 0.0, \"date\": \"2020-04-19T00:00:00\", \"type\": \"infection_rate\"}, {\"rate\": 0.0, \"date\": \"2020-04-20T00:00:00\", \"type\": \"infection_rate\"}, {\"rate\": 0.0, \"date\": \"2020-04-21T00:00:00\", \"type\": \"infection_rate\"}, {\"rate\": 0.0, \"date\": \"2020-04-22T00:00:00\", \"type\": \"infection_rate\"}, {\"rate\": 0.0, \"date\": \"2020-04-23T00:00:00\", \"type\": \"infection_rate\"}, {\"rate\": 0.0, \"date\": \"2020-04-24T00:00:00\", \"type\": \"infection_rate\"}, {\"rate\": 0.0, \"date\": \"2020-04-25T00:00:00\", \"type\": \"infection_rate\"}, {\"rate\": 0.0, \"date\": \"2020-04-26T00:00:00\", \"type\": \"infection_rate\"}, {\"rate\": 0.0, \"date\": \"2020-04-27T00:00:00\", \"type\": \"infection_rate\"}, {\"rate\": 0.0, \"date\": \"2020-04-28T00:00:00\", \"type\": \"infection_rate\"}, {\"rate\": 0.0, \"date\": \"2020-04-29T00:00:00\", \"type\": \"infection_rate\"}, {\"rate\": 0.0, \"date\": \"2020-04-30T00:00:00\", \"type\": \"infection_rate\"}, {\"rate\": 0.0, \"date\": \"2020-05-01T00:00:00\", \"type\": \"infection_rate\"}, {\"rate\": 0.0, \"date\": \"2020-05-02T00:00:00\", \"type\": \"infection_rate\"}, {\"rate\": 0.0, \"date\": \"2020-05-03T00:00:00\", \"type\": \"infection_rate\"}, {\"rate\": 0.0, \"date\": \"2020-05-04T00:00:00\", \"type\": \"infection_rate\"}, {\"rate\": 0.0, \"date\": \"2020-05-05T00:00:00\", \"type\": \"infection_rate\"}, {\"rate\": 0.0, \"date\": \"2020-05-06T00:00:00\", \"type\": \"infection_rate\"}, {\"rate\": 0.0, \"date\": \"2020-05-07T00:00:00\", \"type\": \"infection_rate\"}, {\"rate\": 0.0, \"date\": \"2020-05-08T00:00:00\", \"type\": \"infection_rate\"}, {\"rate\": 0.0, \"date\": \"2020-05-09T00:00:00\", \"type\": \"infection_rate\"}, {\"rate\": 3.541642384714632, \"date\": \"2020-02-20T00:00:00\", \"type\": \"reproduction_number\"}, {\"rate\": 3.5316885251256367, \"date\": \"2020-02-21T00:00:00\", \"type\": \"reproduction_number\"}, {\"rate\": 3.5217346655366413, \"date\": \"2020-02-22T00:00:00\", \"type\": \"reproduction_number\"}, {\"rate\": 3.511780805947647, \"date\": \"2020-02-23T00:00:00\", \"type\": \"reproduction_number\"}, {\"rate\": 3.5017543980380585, \"date\": \"2020-02-24T00:00:00\", \"type\": \"reproduction_number\"}, {\"rate\": 3.4915675100950097, \"date\": \"2020-02-25T00:00:00\", \"type\": \"reproduction_number\"}, {\"rate\": 3.4811135650666163, \"date\": \"2020-02-26T00:00:00\", \"type\": \"reproduction_number\"}, {\"rate\": 3.470263386940978, \"date\": \"2020-02-27T00:00:00\", \"type\": \"reproduction_number\"}, {\"rate\": 3.4588604087859434, \"date\": \"2020-02-28T00:00:00\", \"type\": \"reproduction_number\"}, {\"rate\": 3.4467148646853625, \"date\": \"2020-02-29T00:00:00\", \"type\": \"reproduction_number\"}, {\"rate\": 3.433596750113776, \"date\": \"2020-03-01T00:00:00\", \"type\": \"reproduction_number\"}, {\"rate\": 3.419227289605044, \"date\": \"2020-03-02T00:00:00\", \"type\": \"reproduction_number\"}, {\"rate\": 3.4032685951964603, \"date\": \"2020-03-03T00:00:00\", \"type\": \"reproduction_number\"}, {\"rate\": 3.385311132014226, \"date\": \"2020-03-04T00:00:00\", \"type\": \"reproduction_number\"}, {\"rate\": 3.364858526019115, \"date\": \"2020-03-05T00:00:00\", \"type\": \"reproduction_number\"}, {\"rate\": 3.3413091503349204, \"date\": \"2020-03-06T00:00:00\", \"type\": \"reproduction_number\"}, {\"rate\": 3.31393380707947, \"date\": \"2020-03-07T00:00:00\", \"type\": \"reproduction_number\"}, {\"rate\": 3.281848676775276, \"date\": \"2020-03-08T00:00:00\", \"type\": \"reproduction_number\"}, {\"rate\": 3.2439825318613735, \"date\": \"2020-03-09T00:00:00\", \"type\": \"reproduction_number\"}, {\"rate\": 3.1990369980468527, \"date\": \"2020-03-10T00:00:00\", \"type\": \"reproduction_number\"}, {\"rate\": 3.1454383893468507, \"date\": \"2020-03-11T00:00:00\", \"type\": \"reproduction_number\"}, {\"rate\": 3.081279330055992, \"date\": \"2020-03-12T00:00:00\", \"type\": \"reproduction_number\"}, {\"rate\": 3.004247998046839, \"date\": \"2020-03-13T00:00:00\", \"type\": \"reproduction_number\"}, {\"rate\": 2.911542364577045, \"date\": \"2020-03-14T00:00:00\", \"type\": \"reproduction_number\"}, {\"rate\": 2.8188367311072504, \"date\": \"2020-03-15T00:00:00\", \"type\": \"reproduction_number\"}, {\"rate\": 2.726131097637456, \"date\": \"2020-03-16T00:00:00\", \"type\": \"reproduction_number\"}, {\"rate\": 2.6334254641676615, \"date\": \"2020-03-17T00:00:00\", \"type\": \"reproduction_number\"}, {\"rate\": 2.540719830697867, \"date\": \"2020-03-18T00:00:00\", \"type\": \"reproduction_number\"}, {\"rate\": 2.4480141972280736, \"date\": \"2020-03-19T00:00:00\", \"type\": \"reproduction_number\"}, {\"rate\": 2.355308563758279, \"date\": \"2020-03-20T00:00:00\", \"type\": \"reproduction_number\"}, {\"rate\": 2.2626029302884847, \"date\": \"2020-03-21T00:00:00\", \"type\": \"reproduction_number\"}, {\"rate\": 2.1698972968186903, \"date\": \"2020-03-22T00:00:00\", \"type\": \"reproduction_number\"}, {\"rate\": 2.077191663348896, \"date\": \"2020-03-23T00:00:00\", \"type\": \"reproduction_number\"}, {\"rate\": 1.9844860298791016, \"date\": \"2020-03-24T00:00:00\", \"type\": \"reproduction_number\"}, {\"rate\": 1.8917803964093072, \"date\": \"2020-03-25T00:00:00\", \"type\": \"reproduction_number\"}, {\"rate\": 1.7990747629395127, \"date\": \"2020-03-26T00:00:00\", \"type\": \"reproduction_number\"}, {\"rate\": 1.7063691294697185, \"date\": \"2020-03-27T00:00:00\", \"type\": \"reproduction_number\"}, {\"rate\": 1.6136634959999243, \"date\": \"2020-03-28T00:00:00\", \"type\": \"reproduction_number\"}, {\"rate\": 1.52095786253013, \"date\": \"2020-03-29T00:00:00\", \"type\": \"reproduction_number\"}, {\"rate\": 1.4282522290603357, \"date\": \"2020-03-30T00:00:00\", \"type\": \"reproduction_number\"}, {\"rate\": 1.3356072199990474, \"date\": \"2020-03-31T00:00:00\", \"type\": \"reproduction_number\"}, {\"rate\": 1.2431169652018275, \"date\": \"2020-04-01T00:00:00\", \"type\": \"reproduction_number\"}, {\"rate\": 1.1508955541384798, \"date\": \"2020-04-02T00:00:00\", \"type\": \"reproduction_number\"}, {\"rate\": 1.059081268197436, \"date\": \"2020-04-03T00:00:00\", \"type\": \"reproduction_number\"}, {\"rate\": 0.9678417104223374, \"date\": \"2020-04-04T00:00:00\", \"type\": \"reproduction_number\"}, {\"rate\": 0.8773800229753841, \"date\": \"2020-04-05T00:00:00\", \"type\": \"reproduction_number\"}, {\"rate\": 0.7879424229727244, \"date\": \"2020-04-06T00:00:00\", \"type\": \"reproduction_number\"}, {\"rate\": 0.6998273362439745, \"date\": \"2020-04-07T00:00:00\", \"type\": \"reproduction_number\"}, {\"rate\": 0.6133964678451242, \"date\": \"2020-04-08T00:00:00\", \"type\": \"reproduction_number\"}, {\"rate\": 0.5290882200005951, \"date\": \"2020-04-09T00:00:00\", \"type\": \"reproduction_number\"}, {\"rate\": 0.44743395523129975, \"date\": \"2020-04-10T00:00:00\", \"type\": \"reproduction_number\"}, {\"rate\": 0.36907770797160616, \"date\": \"2020-04-11T00:00:00\", \"type\": \"reproduction_number\"}, {\"rate\": 0.29480007590450286, \"date\": \"2020-04-12T00:00:00\", \"type\": \"reproduction_number\"}, {\"rate\": 0.2255471772966092, \"date\": \"2020-04-13T00:00:00\", \"type\": \"reproduction_number\"}, {\"rate\": 0.16246574854483983, \"date\": \"2020-04-14T00:00:00\", \"type\": \"reproduction_number\"}, {\"rate\": 0.1069456839260576, \"date\": \"2020-04-15T00:00:00\", \"type\": \"reproduction_number\"}, {\"rate\": 0.0606715956197075, \"date\": \"2020-04-16T00:00:00\", \"type\": \"reproduction_number\"}, {\"rate\": 0.02568530669275008, \"date\": \"2020-04-17T00:00:00\", \"type\": \"reproduction_number\"}, {\"rate\": 0.004461595309347366, \"date\": \"2020-04-18T00:00:00\", \"type\": \"reproduction_number\"}, {\"rate\": 0.0, \"date\": \"2020-04-19T00:00:00\", \"type\": \"reproduction_number\"}, {\"rate\": 0.0, \"date\": \"2020-04-20T00:00:00\", \"type\": \"reproduction_number\"}, {\"rate\": 0.0, \"date\": \"2020-04-21T00:00:00\", \"type\": \"reproduction_number\"}, {\"rate\": 0.0, \"date\": \"2020-04-22T00:00:00\", \"type\": \"reproduction_number\"}, {\"rate\": 0.0, \"date\": \"2020-04-23T00:00:00\", \"type\": \"reproduction_number\"}, {\"rate\": 0.0, \"date\": \"2020-04-24T00:00:00\", \"type\": \"reproduction_number\"}, {\"rate\": 0.0, \"date\": \"2020-04-25T00:00:00\", \"type\": \"reproduction_number\"}, {\"rate\": 0.0, \"date\": \"2020-04-26T00:00:00\", \"type\": \"reproduction_number\"}, {\"rate\": 0.0, \"date\": \"2020-04-27T00:00:00\", \"type\": \"reproduction_number\"}, {\"rate\": 0.0, \"date\": \"2020-04-28T00:00:00\", \"type\": \"reproduction_number\"}, {\"rate\": 0.0, \"date\": \"2020-04-29T00:00:00\", \"type\": \"reproduction_number\"}, {\"rate\": 0.0, \"date\": \"2020-04-30T00:00:00\", \"type\": \"reproduction_number\"}, {\"rate\": 0.0, \"date\": \"2020-05-01T00:00:00\", \"type\": \"reproduction_number\"}, {\"rate\": 0.0, \"date\": \"2020-05-02T00:00:00\", \"type\": \"reproduction_number\"}, {\"rate\": 0.0, \"date\": \"2020-05-03T00:00:00\", \"type\": \"reproduction_number\"}, {\"rate\": 0.0, \"date\": \"2020-05-04T00:00:00\", \"type\": \"reproduction_number\"}, {\"rate\": 0.0, \"date\": \"2020-05-05T00:00:00\", \"type\": \"reproduction_number\"}, {\"rate\": 0.0, \"date\": \"2020-05-06T00:00:00\", \"type\": \"reproduction_number\"}, {\"rate\": 0.0, \"date\": \"2020-05-07T00:00:00\", \"type\": \"reproduction_number\"}, {\"rate\": 0.0, \"date\": \"2020-05-08T00:00:00\", \"type\": \"reproduction_number\"}, {\"rate\": 0.0, \"date\": \"2020-05-09T00:00:00\", \"type\": \"reproduction_number\"}]}}, {\"mode\": \"vega-lite\"});\n",
       "</script>"
      ],
      "text/plain": [
       "alt.Chart(...)"
      ]
     },
     "execution_count": 4,
     "metadata": {},
     "output_type": "execute_result"
    }
   ],
   "source": [
    "chart = alt.Chart(infdf, title = '').mark_line(size=2, point = True).encode(\n",
    "    x = alt.X(\"date\"),\n",
    "    y = alt.Y('rate', title = 'Infection rate/Rt'),\n",
    "    color = alt.Color('type')\n",
    ").interactive()\n",
    "chart"
   ]
  },
  {
   "cell_type": "code",
   "execution_count": null,
   "metadata": {},
   "outputs": [],
   "source": [
    "\n",
    "train['pred'] = 'Train'\n",
    "\n",
    "dates = [(firstday + datetime.timedelta(days=i)) for i in range(0,len(pred_new_obs))]\n",
    "pred_dat = pd.DataFrame({'date': dates, 'new_obs': pred_new_obs})\n",
    "pred_dat['pred'] = 'Predicted'\n",
    "# obs_dat['pred'] = 'Observed'\n",
    "all_dat = pd.concat([train, test, pred_dat])"
   ]
  },
  {
   "cell_type": "code",
   "execution_count": null,
   "metadata": {},
   "outputs": [],
   "source": []
  }
 ],
 "metadata": {
  "kernelspec": {
   "display_name": "Python 3",
   "language": "python",
   "name": "python3"
  },
  "language_info": {
   "codemirror_mode": {
    "name": "ipython",
    "version": 3
   },
   "file_extension": ".py",
   "mimetype": "text/x-python",
   "name": "python",
   "nbconvert_exporter": "python",
   "pygments_lexer": "ipython3",
   "version": "3.7.6"
  }
 },
 "nbformat": 4,
 "nbformat_minor": 2
}
