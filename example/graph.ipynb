{
 "cells": [
  {
   "cell_type": "code",
   "execution_count": 1,
   "metadata": {},
   "outputs": [],
   "source": [
    "import numpy as np\n",
    "import pandas as pd\n",
    "import altair as alt\n",
    "import datetime"
   ]
  },
  {
   "cell_type": "code",
   "execution_count": 6,
   "metadata": {},
   "outputs": [],
   "source": [
    "train_data = np.load(\"train_data.npy\")"
   ]
  },
  {
   "cell_type": "code",
   "execution_count": 11,
   "metadata": {},
   "outputs": [],
   "source": [
    "pred_new_obs = np.load(\"output/predicted_daily_observed.npy\")\n",
    "infection_a0 = np.load(\"output/predicted_infection_rate.npy\")\n",
    "infection_r0 = np.load(\"output/predicted_reproduction_number.npy\")"
   ]
  },
  {
   "cell_type": "code",
   "execution_count": 12,
   "metadata": {},
   "outputs": [],
   "source": [
    "firstday = datetime.datetime(2020, 2, 20)\n",
    "infdf_a0 = pd.DataFrame({'rate': infection_a0[:80],\n",
    "                     'date': [(firstday + datetime.timedelta(days=i)) for i in range(0,80)],\n",
    "                        'type': 'infection_rate'})\n",
    "infdf_r0 = pd.DataFrame({'rate': infection_r0[:80],\n",
    "                     'date': [(firstday + datetime.timedelta(days=i)) for i in range(0,80)],\n",
    "                        'type': 'reproduction_number'})\n",
    "infdf = pd.concat([infdf_a0, infdf_r0])"
   ]
  },
  {
   "cell_type": "code",
   "execution_count": 13,
   "metadata": {},
   "outputs": [
    {
     "data": {
      "text/html": [
       "\n",
       "<div id=\"altair-viz-8120ec579d664a85a7a02b3df3f61885\"></div>\n",
       "<script type=\"text/javascript\">\n",
       "  (function(spec, embedOpt){\n",
       "    let outputDiv = document.currentScript.previousElementSibling;\n",
       "    if (outputDiv.id !== \"altair-viz-8120ec579d664a85a7a02b3df3f61885\") {\n",
       "      outputDiv = document.getElementById(\"altair-viz-8120ec579d664a85a7a02b3df3f61885\");\n",
       "    }\n",
       "    const paths = {\n",
       "      \"vega\": \"https://cdn.jsdelivr.net/npm//vega@5?noext\",\n",
       "      \"vega-lib\": \"https://cdn.jsdelivr.net/npm//vega-lib?noext\",\n",
       "      \"vega-lite\": \"https://cdn.jsdelivr.net/npm//vega-lite@4.8.1?noext\",\n",
       "      \"vega-embed\": \"https://cdn.jsdelivr.net/npm//vega-embed@6?noext\",\n",
       "    };\n",
       "\n",
       "    function loadScript(lib) {\n",
       "      return new Promise(function(resolve, reject) {\n",
       "        var s = document.createElement('script');\n",
       "        s.src = paths[lib];\n",
       "        s.async = true;\n",
       "        s.onload = () => resolve(paths[lib]);\n",
       "        s.onerror = () => reject(`Error loading script: ${paths[lib]}`);\n",
       "        document.getElementsByTagName(\"head\")[0].appendChild(s);\n",
       "      });\n",
       "    }\n",
       "\n",
       "    function showError(err) {\n",
       "      outputDiv.innerHTML = `<div class=\"error\" style=\"color:red;\">${err}</div>`;\n",
       "      throw err;\n",
       "    }\n",
       "\n",
       "    function displayChart(vegaEmbed) {\n",
       "      vegaEmbed(outputDiv, spec, embedOpt)\n",
       "        .catch(err => showError(`Javascript Error: ${err.message}<br>This usually means there's a typo in your chart specification. See the javascript console for the full traceback.`));\n",
       "    }\n",
       "\n",
       "    if(typeof define === \"function\" && define.amd) {\n",
       "      requirejs.config({paths});\n",
       "      require([\"vega-embed\"], displayChart, err => showError(`Error loading script: ${err.message}`));\n",
       "    } else if (typeof vegaEmbed === \"function\") {\n",
       "      displayChart(vegaEmbed);\n",
       "    } else {\n",
       "      loadScript(\"vega\")\n",
       "        .then(() => loadScript(\"vega-lite\"))\n",
       "        .then(() => loadScript(\"vega-embed\"))\n",
       "        .catch(showError)\n",
       "        .then(() => displayChart(vegaEmbed));\n",
       "    }\n",
       "  })({\"config\": {\"view\": {\"continuousWidth\": 400, \"continuousHeight\": 300}}, \"data\": {\"name\": \"data-9d29a23577d1887f8f532685aa5722c5\"}, \"mark\": {\"type\": \"line\", \"point\": true, \"size\": 2}, \"encoding\": {\"color\": {\"type\": \"nominal\", \"field\": \"type\"}, \"x\": {\"type\": \"temporal\", \"field\": \"date\"}, \"y\": {\"type\": \"quantitative\", \"field\": \"rate\", \"title\": \"Infection rate/Rt\"}}, \"selection\": {\"selector004\": {\"type\": \"interval\", \"bind\": \"scales\", \"encodings\": [\"x\", \"y\"]}}, \"title\": \"\", \"$schema\": \"https://vega.github.io/schema/vega-lite/v4.8.1.json\", \"datasets\": {\"data-9d29a23577d1887f8f532685aa5722c5\": [{\"rate\": 0.8572186384298861, \"date\": \"2020-02-20T00:00:00\", \"type\": \"infection_rate\"}, {\"rate\": 0.8470801017960721, \"date\": \"2020-02-21T00:00:00\", \"type\": \"infection_rate\"}, {\"rate\": 0.836941565162258, \"date\": \"2020-02-22T00:00:00\", \"type\": \"infection_rate\"}, {\"rate\": 0.826803028528444, \"date\": \"2020-02-23T00:00:00\", \"type\": \"infection_rate\"}, {\"rate\": 0.8166644918946299, \"date\": \"2020-02-24T00:00:00\", \"type\": \"infection_rate\"}, {\"rate\": 0.8065259552608157, \"date\": \"2020-02-25T00:00:00\", \"type\": \"infection_rate\"}, {\"rate\": 0.7963874186270018, \"date\": \"2020-02-26T00:00:00\", \"type\": \"infection_rate\"}, {\"rate\": 0.7862488819931878, \"date\": \"2020-02-27T00:00:00\", \"type\": \"infection_rate\"}, {\"rate\": 0.7761103453593737, \"date\": \"2020-02-28T00:00:00\", \"type\": \"infection_rate\"}, {\"rate\": 0.7659718087255596, \"date\": \"2020-02-29T00:00:00\", \"type\": \"infection_rate\"}, {\"rate\": 0.7558332720917456, \"date\": \"2020-03-01T00:00:00\", \"type\": \"infection_rate\"}, {\"rate\": 0.7456947354579315, \"date\": \"2020-03-02T00:00:00\", \"type\": \"infection_rate\"}, {\"rate\": 0.7355561988241175, \"date\": \"2020-03-03T00:00:00\", \"type\": \"infection_rate\"}, {\"rate\": 0.7254176621903035, \"date\": \"2020-03-04T00:00:00\", \"type\": \"infection_rate\"}, {\"rate\": 0.7152791255564894, \"date\": \"2020-03-05T00:00:00\", \"type\": \"infection_rate\"}, {\"rate\": 0.7051405889226754, \"date\": \"2020-03-06T00:00:00\", \"type\": \"infection_rate\"}, {\"rate\": 0.6950020522888612, \"date\": \"2020-03-07T00:00:00\", \"type\": \"infection_rate\"}, {\"rate\": 0.6848635156550472, \"date\": \"2020-03-08T00:00:00\", \"type\": \"infection_rate\"}, {\"rate\": 0.6747249790212332, \"date\": \"2020-03-09T00:00:00\", \"type\": \"infection_rate\"}, {\"rate\": 0.664586442387419, \"date\": \"2020-03-10T00:00:00\", \"type\": \"infection_rate\"}, {\"rate\": 0.654447905753605, \"date\": \"2020-03-11T00:00:00\", \"type\": \"infection_rate\"}, {\"rate\": 0.644309369119791, \"date\": \"2020-03-12T00:00:00\", \"type\": \"infection_rate\"}, {\"rate\": 0.6341708324859769, \"date\": \"2020-03-13T00:00:00\", \"type\": \"infection_rate\"}, {\"rate\": 0.6167407366835866, \"date\": \"2020-03-14T00:00:00\", \"type\": \"infection_rate\"}, {\"rate\": 0.5993106408811961, \"date\": \"2020-03-15T00:00:00\", \"type\": \"infection_rate\"}, {\"rate\": 0.5818805450788058, \"date\": \"2020-03-16T00:00:00\", \"type\": \"infection_rate\"}, {\"rate\": 0.5644504492764154, \"date\": \"2020-03-17T00:00:00\", \"type\": \"infection_rate\"}, {\"rate\": 0.547020353474025, \"date\": \"2020-03-18T00:00:00\", \"type\": \"infection_rate\"}, {\"rate\": 0.5295902576716346, \"date\": \"2020-03-19T00:00:00\", \"type\": \"infection_rate\"}, {\"rate\": 0.5121601618692443, \"date\": \"2020-03-20T00:00:00\", \"type\": \"infection_rate\"}, {\"rate\": 0.4947300660668538, \"date\": \"2020-03-21T00:00:00\", \"type\": \"infection_rate\"}, {\"rate\": 0.47729997026446347, \"date\": \"2020-03-22T00:00:00\", \"type\": \"infection_rate\"}, {\"rate\": 0.45986987446207306, \"date\": \"2020-03-23T00:00:00\", \"type\": \"infection_rate\"}, {\"rate\": 0.44243977865968276, \"date\": \"2020-03-24T00:00:00\", \"type\": \"infection_rate\"}, {\"rate\": 0.4250096828572923, \"date\": \"2020-03-25T00:00:00\", \"type\": \"infection_rate\"}, {\"rate\": 0.40757958705490194, \"date\": \"2020-03-26T00:00:00\", \"type\": \"infection_rate\"}, {\"rate\": 0.3901494912525115, \"date\": \"2020-03-27T00:00:00\", \"type\": \"infection_rate\"}, {\"rate\": 0.3727193954501211, \"date\": \"2020-03-28T00:00:00\", \"type\": \"infection_rate\"}, {\"rate\": 0.3552892996477308, \"date\": \"2020-03-29T00:00:00\", \"type\": \"infection_rate\"}, {\"rate\": 0.3378592038453404, \"date\": \"2020-03-30T00:00:00\", \"type\": \"infection_rate\"}, {\"rate\": 0.32042910804295, \"date\": \"2020-03-31T00:00:00\", \"type\": \"infection_rate\"}, {\"rate\": 0.3029990122405596, \"date\": \"2020-04-01T00:00:00\", \"type\": \"infection_rate\"}, {\"rate\": 0.28556891643816923, \"date\": \"2020-04-02T00:00:00\", \"type\": \"infection_rate\"}, {\"rate\": 0.2681388206357789, \"date\": \"2020-04-03T00:00:00\", \"type\": \"infection_rate\"}, {\"rate\": 0.25070872483338846, \"date\": \"2020-04-04T00:00:00\", \"type\": \"infection_rate\"}, {\"rate\": 0.23327862903099808, \"date\": \"2020-04-05T00:00:00\", \"type\": \"infection_rate\"}, {\"rate\": 0.2158485332286077, \"date\": \"2020-04-06T00:00:00\", \"type\": \"infection_rate\"}, {\"rate\": 0.19841843742621726, \"date\": \"2020-04-07T00:00:00\", \"type\": \"infection_rate\"}, {\"rate\": 0.1809883416238269, \"date\": \"2020-04-08T00:00:00\", \"type\": \"infection_rate\"}, {\"rate\": 0.16355824582143652, \"date\": \"2020-04-09T00:00:00\", \"type\": \"infection_rate\"}, {\"rate\": 0.14612815001904614, \"date\": \"2020-04-10T00:00:00\", \"type\": \"infection_rate\"}, {\"rate\": 0.12869805421665578, \"date\": \"2020-04-11T00:00:00\", \"type\": \"infection_rate\"}, {\"rate\": 0.11126795841426534, \"date\": \"2020-04-12T00:00:00\", \"type\": \"infection_rate\"}, {\"rate\": 0.09383786261187499, \"date\": \"2020-04-13T00:00:00\", \"type\": \"infection_rate\"}, {\"rate\": 0.07640776680948459, \"date\": \"2020-04-14T00:00:00\", \"type\": \"infection_rate\"}, {\"rate\": 0.05897767100709422, \"date\": \"2020-04-15T00:00:00\", \"type\": \"infection_rate\"}, {\"rate\": 0.04154757520470381, \"date\": \"2020-04-16T00:00:00\", \"type\": \"infection_rate\"}, {\"rate\": 0.02411747940231343, \"date\": \"2020-04-17T00:00:00\", \"type\": \"infection_rate\"}, {\"rate\": 0.006687383599923047, \"date\": \"2020-04-18T00:00:00\", \"type\": \"infection_rate\"}, {\"rate\": 0.0, \"date\": \"2020-04-19T00:00:00\", \"type\": \"infection_rate\"}, {\"rate\": 0.0, \"date\": \"2020-04-20T00:00:00\", \"type\": \"infection_rate\"}, {\"rate\": 0.0, \"date\": \"2020-04-21T00:00:00\", \"type\": \"infection_rate\"}, {\"rate\": 0.0, \"date\": \"2020-04-22T00:00:00\", \"type\": \"infection_rate\"}, {\"rate\": 0.0, \"date\": \"2020-04-23T00:00:00\", \"type\": \"infection_rate\"}, {\"rate\": 0.0, \"date\": \"2020-04-24T00:00:00\", \"type\": \"infection_rate\"}, {\"rate\": 0.0, \"date\": \"2020-04-25T00:00:00\", \"type\": \"infection_rate\"}, {\"rate\": 0.0, \"date\": \"2020-04-26T00:00:00\", \"type\": \"infection_rate\"}, {\"rate\": 0.0, \"date\": \"2020-04-27T00:00:00\", \"type\": \"infection_rate\"}, {\"rate\": 0.0, \"date\": \"2020-04-28T00:00:00\", \"type\": \"infection_rate\"}, {\"rate\": 0.0, \"date\": \"2020-04-29T00:00:00\", \"type\": \"infection_rate\"}, {\"rate\": 0.0, \"date\": \"2020-04-30T00:00:00\", \"type\": \"infection_rate\"}, {\"rate\": 0.0, \"date\": \"2020-05-01T00:00:00\", \"type\": \"infection_rate\"}, {\"rate\": 0.0, \"date\": \"2020-05-02T00:00:00\", \"type\": \"infection_rate\"}, {\"rate\": 0.0, \"date\": \"2020-05-03T00:00:00\", \"type\": \"infection_rate\"}, {\"rate\": 0.0, \"date\": \"2020-05-04T00:00:00\", \"type\": \"infection_rate\"}, {\"rate\": 0.0, \"date\": \"2020-05-05T00:00:00\", \"type\": \"infection_rate\"}, {\"rate\": 0.0, \"date\": \"2020-05-06T00:00:00\", \"type\": \"infection_rate\"}, {\"rate\": 0.0, \"date\": \"2020-05-07T00:00:00\", \"type\": \"infection_rate\"}, {\"rate\": 0.0, \"date\": \"2020-05-08T00:00:00\", \"type\": \"infection_rate\"}, {\"rate\": 0.0, \"date\": \"2020-05-09T00:00:00\", \"type\": \"infection_rate\"}, {\"rate\": 4.31969213873656, \"date\": \"2020-02-20T00:00:00\", \"type\": \"reproduction_number\"}, {\"rate\": 4.266166187796397, \"date\": \"2020-02-21T00:00:00\", \"type\": \"reproduction_number\"}, {\"rate\": 4.2126402368562355, \"date\": \"2020-02-22T00:00:00\", \"type\": \"reproduction_number\"}, {\"rate\": 4.159114285916074, \"date\": \"2020-02-23T00:00:00\", \"type\": \"reproduction_number\"}, {\"rate\": 4.105554586079764, \"date\": \"2020-02-24T00:00:00\", \"type\": \"reproduction_number\"}, {\"rate\": 4.051920232220607, \"date\": \"2020-02-25T00:00:00\", \"type\": \"reproduction_number\"}, {\"rate\": 3.998161645549924, \"date\": \"2020-02-26T00:00:00\", \"type\": \"reproduction_number\"}, {\"rate\": 3.9442187344243123, \"date\": \"2020-02-27T00:00:00\", \"type\": \"reproduction_number\"}, {\"rate\": 3.890018665164231, \"date\": \"2020-02-28T00:00:00\", \"type\": \"reproduction_number\"}, {\"rate\": 3.8354731601893834, \"date\": \"2020-02-29T00:00:00\", \"type\": \"reproduction_number\"}, {\"rate\": 3.780475223241554, \"date\": \"2020-03-01T00:00:00\", \"type\": \"reproduction_number\"}, {\"rate\": 3.7248951702125734, \"date\": \"2020-03-02T00:00:00\", \"type\": \"reproduction_number\"}, {\"rate\": 3.6685758183355652, \"date\": \"2020-03-03T00:00:00\", \"type\": \"reproduction_number\"}, {\"rate\": 3.6113266552759686, \"date\": \"2020-03-04T00:00:00\", \"type\": \"reproduction_number\"}, {\"rate\": 3.5529167718168173, \"date\": \"2020-03-05T00:00:00\", \"type\": \"reproduction_number\"}, {\"rate\": 3.493066295966604, \"date\": \"2020-03-06T00:00:00\", \"type\": \"reproduction_number\"}, {\"rate\": 3.431436010726293, \"date\": \"2020-03-07T00:00:00\", \"type\": \"reproduction_number\"}, {\"rate\": 3.367614770372382, \"date\": \"2020-03-08T00:00:00\", \"type\": \"reproduction_number\"}, {\"rate\": 3.3011042484458955, \"date\": \"2020-03-09T00:00:00\", \"type\": \"reproduction_number\"}, {\"rate\": 3.231300451653168, \"date\": \"2020-03-10T00:00:00\", \"type\": \"reproduction_number\"}, {\"rate\": 3.157471313911368, \"date\": \"2020-03-11T00:00:00\", \"type\": \"reproduction_number\"}, {\"rate\": 3.0787295393593475, \"date\": \"2020-03-12T00:00:00\", \"type\": \"reproduction_number\"}, {\"rate\": 2.993999686908277, \"date\": \"2020-03-13T00:00:00\", \"type\": \"reproduction_number\"}, {\"rate\": 2.9019782752886307, \"date\": \"2020-03-14T00:00:00\", \"type\": \"reproduction_number\"}, {\"rate\": 2.809956863668984, \"date\": \"2020-03-15T00:00:00\", \"type\": \"reproduction_number\"}, {\"rate\": 2.717935452049338, \"date\": \"2020-03-16T00:00:00\", \"type\": \"reproduction_number\"}, {\"rate\": 2.625914040429691, \"date\": \"2020-03-17T00:00:00\", \"type\": \"reproduction_number\"}, {\"rate\": 2.5338926288100447, \"date\": \"2020-03-18T00:00:00\", \"type\": \"reproduction_number\"}, {\"rate\": 2.441871217190398, \"date\": \"2020-03-19T00:00:00\", \"type\": \"reproduction_number\"}, {\"rate\": 2.3498498055707517, \"date\": \"2020-03-20T00:00:00\", \"type\": \"reproduction_number\"}, {\"rate\": 2.2578283939511055, \"date\": \"2020-03-21T00:00:00\", \"type\": \"reproduction_number\"}, {\"rate\": 2.1658069823314587, \"date\": \"2020-03-22T00:00:00\", \"type\": \"reproduction_number\"}, {\"rate\": 2.073785570711812, \"date\": \"2020-03-23T00:00:00\", \"type\": \"reproduction_number\"}, {\"rate\": 1.981764159092166, \"date\": \"2020-03-24T00:00:00\", \"type\": \"reproduction_number\"}, {\"rate\": 1.8897427474725197, \"date\": \"2020-03-25T00:00:00\", \"type\": \"reproduction_number\"}, {\"rate\": 1.797721335852873, \"date\": \"2020-03-26T00:00:00\", \"type\": \"reproduction_number\"}, {\"rate\": 1.7056999242332267, \"date\": \"2020-03-27T00:00:00\", \"type\": \"reproduction_number\"}, {\"rate\": 1.6136785126135802, \"date\": \"2020-03-28T00:00:00\", \"type\": \"reproduction_number\"}, {\"rate\": 1.5216571009939335, \"date\": \"2020-03-29T00:00:00\", \"type\": \"reproduction_number\"}, {\"rate\": 1.4296356893742872, \"date\": \"2020-03-30T00:00:00\", \"type\": \"reproduction_number\"}, {\"rate\": 1.3376640002721552, \"date\": \"2020-03-31T00:00:00\", \"type\": \"reproduction_number\"}, {\"rate\": 1.245833252013135, \"date\": \"2020-04-01T00:00:00\", \"type\": \"reproduction_number\"}, {\"rate\": 1.1542540051663632, \"date\": \"2020-04-02T00:00:00\", \"type\": \"reproduction_number\"}, {\"rate\": 1.0630602639395224, \"date\": \"2020-04-03T00:00:00\", \"type\": \"reproduction_number\"}, {\"rate\": 0.9724144472475743, \"date\": \"2020-04-04T00:00:00\", \"type\": \"reproduction_number\"}, {\"rate\": 0.8825134138637877, \"date\": \"2020-04-05T00:00:00\", \"type\": \"reproduction_number\"}, {\"rate\": 0.7935957651642525, \"date\": \"2020-04-06T00:00:00\", \"type\": \"reproduction_number\"}, {\"rate\": 0.7059506963711416, \"date\": \"2020-04-07T00:00:00\", \"type\": \"reproduction_number\"}, {\"rate\": 0.6199287246436513, \"date\": \"2020-04-08T00:00:00\", \"type\": \"reproduction_number\"}, {\"rate\": 0.5359546919897793, \"date\": \"2020-04-09T00:00:00\", \"type\": \"reproduction_number\"}, {\"rate\": 0.4545435253596735, \"date\": \"2020-04-10T00:00:00\", \"type\": \"reproduction_number\"}, {\"rate\": 0.37631933856269584, \"date\": \"2020-04-11T00:00:00\", \"type\": \"reproduction_number\"}, {\"rate\": 0.3020385846198522, \"date\": \"2020-04-12T00:00:00\", \"type\": \"reproduction_number\"}, {\"rate\": 0.23261811741965616, \"date\": \"2020-04-13T00:00:00\", \"type\": \"reproduction_number\"}, {\"rate\": 0.1691692036628008, \"date\": \"2020-04-14T00:00:00\", \"type\": \"reproduction_number\"}, {\"rate\": 0.11303874681508427, \"date\": \"2020-04-15T00:00:00\", \"type\": \"reproduction_number\"}, {\"rate\": 0.06585925232731109, \"date\": \"2020-04-16T00:00:00\", \"type\": \"reproduction_number\"}, {\"rate\": 0.029609387650104527, \"date\": \"2020-04-17T00:00:00\", \"type\": \"reproduction_number\"}, {\"rate\": 0.006687383599923047, \"date\": \"2020-04-18T00:00:00\", \"type\": \"reproduction_number\"}, {\"rate\": 0.0, \"date\": \"2020-04-19T00:00:00\", \"type\": \"reproduction_number\"}, {\"rate\": 0.0, \"date\": \"2020-04-20T00:00:00\", \"type\": \"reproduction_number\"}, {\"rate\": 0.0, \"date\": \"2020-04-21T00:00:00\", \"type\": \"reproduction_number\"}, {\"rate\": 0.0, \"date\": \"2020-04-22T00:00:00\", \"type\": \"reproduction_number\"}, {\"rate\": 0.0, \"date\": \"2020-04-23T00:00:00\", \"type\": \"reproduction_number\"}, {\"rate\": 0.0, \"date\": \"2020-04-24T00:00:00\", \"type\": \"reproduction_number\"}, {\"rate\": 0.0, \"date\": \"2020-04-25T00:00:00\", \"type\": \"reproduction_number\"}, {\"rate\": 0.0, \"date\": \"2020-04-26T00:00:00\", \"type\": \"reproduction_number\"}, {\"rate\": 0.0, \"date\": \"2020-04-27T00:00:00\", \"type\": \"reproduction_number\"}, {\"rate\": 0.0, \"date\": \"2020-04-28T00:00:00\", \"type\": \"reproduction_number\"}, {\"rate\": 0.0, \"date\": \"2020-04-29T00:00:00\", \"type\": \"reproduction_number\"}, {\"rate\": 0.0, \"date\": \"2020-04-30T00:00:00\", \"type\": \"reproduction_number\"}, {\"rate\": 0.0, \"date\": \"2020-05-01T00:00:00\", \"type\": \"reproduction_number\"}, {\"rate\": 0.0, \"date\": \"2020-05-02T00:00:00\", \"type\": \"reproduction_number\"}, {\"rate\": 0.0, \"date\": \"2020-05-03T00:00:00\", \"type\": \"reproduction_number\"}, {\"rate\": 0.0, \"date\": \"2020-05-04T00:00:00\", \"type\": \"reproduction_number\"}, {\"rate\": 0.0, \"date\": \"2020-05-05T00:00:00\", \"type\": \"reproduction_number\"}, {\"rate\": 0.0, \"date\": \"2020-05-06T00:00:00\", \"type\": \"reproduction_number\"}, {\"rate\": 0.0, \"date\": \"2020-05-07T00:00:00\", \"type\": \"reproduction_number\"}, {\"rate\": 0.0, \"date\": \"2020-05-08T00:00:00\", \"type\": \"reproduction_number\"}, {\"rate\": 0.0, \"date\": \"2020-05-09T00:00:00\", \"type\": \"reproduction_number\"}]}}, {\"mode\": \"vega-lite\"});\n",
       "</script>"
      ],
      "text/plain": [
       "alt.Chart(...)"
      ]
     },
     "execution_count": 13,
     "metadata": {},
     "output_type": "execute_result"
    }
   ],
   "source": [
    "chart1 = alt.Chart(infdf, title = '').mark_line(size=2, point = True).encode(\n",
    "    x = alt.X(\"date\"),\n",
    "    y = alt.Y('rate', title = 'Infection rate/Rt'),\n",
    "    color = alt.Color('type')\n",
    ").interactive()\n",
    "chart1"
   ]
  },
  {
   "cell_type": "code",
   "execution_count": 14,
   "metadata": {},
   "outputs": [],
   "source": [
    "dates = [(firstday + datetime.timedelta(days=i)) for i in range(0,len(train_data))]\n",
    "train = pd.DataFrame({'date':dates, 'new_obs': train_data})\n",
    "train['pred'] = 'Train'\n",
    "\n",
    "dates = [(firstday + datetime.timedelta(days=i)) for i in range(0,len(pred_new_obs))]\n",
    "pred_dat = pd.DataFrame({'date': dates, 'new_obs': pred_new_obs})\n",
    "pred_dat['pred'] = 'Predicted'\n",
    "all_dat = pd.concat([train, pred_dat])"
   ]
  },
  {
   "cell_type": "code",
   "execution_count": 15,
   "metadata": {},
   "outputs": [
    {
     "data": {
      "text/html": [
       "\n",
       "<div id=\"altair-viz-e90ffee7e85c4dde9736325016fb5540\"></div>\n",
       "<script type=\"text/javascript\">\n",
       "  (function(spec, embedOpt){\n",
       "    let outputDiv = document.currentScript.previousElementSibling;\n",
       "    if (outputDiv.id !== \"altair-viz-e90ffee7e85c4dde9736325016fb5540\") {\n",
       "      outputDiv = document.getElementById(\"altair-viz-e90ffee7e85c4dde9736325016fb5540\");\n",
       "    }\n",
       "    const paths = {\n",
       "      \"vega\": \"https://cdn.jsdelivr.net/npm//vega@5?noext\",\n",
       "      \"vega-lib\": \"https://cdn.jsdelivr.net/npm//vega-lib?noext\",\n",
       "      \"vega-lite\": \"https://cdn.jsdelivr.net/npm//vega-lite@4.8.1?noext\",\n",
       "      \"vega-embed\": \"https://cdn.jsdelivr.net/npm//vega-embed@6?noext\",\n",
       "    };\n",
       "\n",
       "    function loadScript(lib) {\n",
       "      return new Promise(function(resolve, reject) {\n",
       "        var s = document.createElement('script');\n",
       "        s.src = paths[lib];\n",
       "        s.async = true;\n",
       "        s.onload = () => resolve(paths[lib]);\n",
       "        s.onerror = () => reject(`Error loading script: ${paths[lib]}`);\n",
       "        document.getElementsByTagName(\"head\")[0].appendChild(s);\n",
       "      });\n",
       "    }\n",
       "\n",
       "    function showError(err) {\n",
       "      outputDiv.innerHTML = `<div class=\"error\" style=\"color:red;\">${err}</div>`;\n",
       "      throw err;\n",
       "    }\n",
       "\n",
       "    function displayChart(vegaEmbed) {\n",
       "      vegaEmbed(outputDiv, spec, embedOpt)\n",
       "        .catch(err => showError(`Javascript Error: ${err.message}<br>This usually means there's a typo in your chart specification. See the javascript console for the full traceback.`));\n",
       "    }\n",
       "\n",
       "    if(typeof define === \"function\" && define.amd) {\n",
       "      requirejs.config({paths});\n",
       "      require([\"vega-embed\"], displayChart, err => showError(`Error loading script: ${err.message}`));\n",
       "    } else if (typeof vegaEmbed === \"function\") {\n",
       "      displayChart(vegaEmbed);\n",
       "    } else {\n",
       "      loadScript(\"vega\")\n",
       "        .then(() => loadScript(\"vega-lite\"))\n",
       "        .then(() => loadScript(\"vega-embed\"))\n",
       "        .catch(showError)\n",
       "        .then(() => displayChart(vegaEmbed));\n",
       "    }\n",
       "  })({\"config\": {\"view\": {\"continuousWidth\": 400, \"continuousHeight\": 300}}, \"data\": {\"name\": \"data-544b915abe9fc1a57b37d0cb303d4ba6\"}, \"mark\": {\"type\": \"line\", \"point\": true, \"size\": 2}, \"encoding\": {\"color\": {\"type\": \"nominal\", \"field\": \"pred\"}, \"tooltip\": [{\"type\": \"temporal\", \"field\": \"date\"}, {\"type\": \"quantitative\", \"field\": \"new_obs\"}], \"x\": {\"type\": \"temporal\", \"field\": \"date\"}, \"y\": {\"type\": \"quantitative\", \"field\": \"new_obs\", \"title\": \"daily new observed cases\"}}, \"selection\": {\"selector005\": {\"type\": \"interval\", \"bind\": \"scales\", \"encodings\": [\"x\", \"y\"]}}, \"title\": \"\", \"$schema\": \"https://vega.github.io/schema/vega-lite/v4.8.1.json\", \"datasets\": {\"data-544b915abe9fc1a57b37d0cb303d4ba6\": [{\"date\": \"2020-02-20T00:00:00\", \"new_obs\": 1.0, \"pred\": \"Train\"}, {\"date\": \"2020-02-21T00:00:00\", \"new_obs\": 20.0, \"pred\": \"Train\"}, {\"date\": \"2020-02-22T00:00:00\", \"new_obs\": 0.0, \"pred\": \"Train\"}, {\"date\": \"2020-02-23T00:00:00\", \"new_obs\": 0.0, \"pred\": \"Train\"}, {\"date\": \"2020-02-24T00:00:00\", \"new_obs\": 18.0, \"pred\": \"Train\"}, {\"date\": \"2020-02-25T00:00:00\", \"new_obs\": 4.0, \"pred\": \"Train\"}, {\"date\": \"2020-02-26T00:00:00\", \"new_obs\": 3.0, \"pred\": \"Train\"}, {\"date\": \"2020-02-27T00:00:00\", \"new_obs\": 0.0, \"pred\": \"Train\"}, {\"date\": \"2020-02-28T00:00:00\", \"new_obs\": 3.0, \"pred\": \"Train\"}, {\"date\": \"2020-02-29T00:00:00\", \"new_obs\": 5.0, \"pred\": \"Train\"}, {\"date\": \"2020-03-01T00:00:00\", \"new_obs\": 7.0, \"pred\": \"Train\"}, {\"date\": \"2020-03-02T00:00:00\", \"new_obs\": 25.0, \"pred\": \"Train\"}, {\"date\": \"2020-03-03T00:00:00\", \"new_obs\": 24.0, \"pred\": \"Train\"}, {\"date\": \"2020-03-04T00:00:00\", \"new_obs\": 34.0, \"pred\": \"Train\"}, {\"date\": \"2020-03-05T00:00:00\", \"new_obs\": 63.0, \"pred\": \"Train\"}, {\"date\": \"2020-03-06T00:00:00\", \"new_obs\": 98.0, \"pred\": \"Train\"}, {\"date\": \"2020-03-07T00:00:00\", \"new_obs\": 116.0, \"pred\": \"Train\"}, {\"date\": \"2020-03-08T00:00:00\", \"new_obs\": 106.0, \"pred\": \"Train\"}, {\"date\": \"2020-03-09T00:00:00\", \"new_obs\": 163.0, \"pred\": \"Train\"}, {\"date\": \"2020-03-10T00:00:00\", \"new_obs\": 290.0, \"pred\": \"Train\"}, {\"date\": \"2020-03-11T00:00:00\", \"new_obs\": 307.0, \"pred\": \"Train\"}, {\"date\": \"2020-03-12T00:00:00\", \"new_obs\": 329.0, \"pred\": \"Train\"}, {\"date\": \"2020-03-13T00:00:00\", \"new_obs\": 553.0, \"pred\": \"Train\"}, {\"date\": \"2020-03-14T00:00:00\", \"new_obs\": 587.0, \"pred\": \"Train\"}, {\"date\": \"2020-03-15T00:00:00\", \"new_obs\": 843.0, \"pred\": \"Train\"}, {\"date\": \"2020-03-16T00:00:00\", \"new_obs\": 983.0, \"pred\": \"Train\"}, {\"date\": \"2020-03-17T00:00:00\", \"new_obs\": 1750.0, \"pred\": \"Train\"}, {\"date\": \"2020-03-18T00:00:00\", \"new_obs\": 2950.0, \"pred\": \"Train\"}, {\"date\": \"2020-03-19T00:00:00\", \"new_obs\": 4569.0, \"pred\": \"Train\"}, {\"date\": \"2020-03-20T00:00:00\", \"new_obs\": 5632.0, \"pred\": \"Train\"}, {\"date\": \"2020-03-21T00:00:00\", \"new_obs\": 4848.0, \"pred\": \"Train\"}, {\"date\": \"2020-03-22T00:00:00\", \"new_obs\": 9400.0, \"pred\": \"Train\"}, {\"date\": \"2020-03-23T00:00:00\", \"new_obs\": 10311.0, \"pred\": \"Train\"}, {\"date\": \"2020-03-24T00:00:00\", \"new_obs\": 11166.0, \"pred\": \"Train\"}, {\"date\": \"2020-03-25T00:00:00\", \"new_obs\": 13451.0, \"pred\": \"Train\"}, {\"date\": \"2020-03-26T00:00:00\", \"new_obs\": 17388.0, \"pred\": \"Train\"}, {\"date\": \"2020-03-27T00:00:00\", \"new_obs\": 18743.0, \"pred\": \"Train\"}, {\"date\": \"2020-03-28T00:00:00\", \"new_obs\": 19452.0, \"pred\": \"Train\"}, {\"date\": \"2020-03-29T00:00:00\", \"new_obs\": 20065.0, \"pred\": \"Train\"}, {\"date\": \"2020-03-30T00:00:00\", \"new_obs\": 20732.0, \"pred\": \"Train\"}, {\"date\": \"2020-03-31T00:00:00\", \"new_obs\": 24914.0, \"pred\": \"Train\"}, {\"date\": \"2020-04-01T00:00:00\", \"new_obs\": 26655.0, \"pred\": \"Train\"}, {\"date\": \"2020-04-02T00:00:00\", \"new_obs\": 30107.0, \"pred\": \"Train\"}, {\"date\": \"2020-04-03T00:00:00\", \"new_obs\": 32454.0, \"pred\": \"Train\"}, {\"date\": \"2020-04-04T00:00:00\", \"new_obs\": 34196.0, \"pred\": \"Train\"}, {\"date\": \"2020-04-05T00:00:00\", \"new_obs\": 25400.0, \"pred\": \"Train\"}, {\"date\": \"2020-04-06T00:00:00\", \"new_obs\": 31240.0, \"pred\": \"Train\"}, {\"date\": \"2020-04-07T00:00:00\", \"new_obs\": 33502.0, \"pred\": \"Train\"}, {\"date\": \"2020-04-08T00:00:00\", \"new_obs\": 31997.0, \"pred\": \"Train\"}, {\"date\": \"2020-04-09T00:00:00\", \"new_obs\": 33606.0, \"pred\": \"Train\"}, {\"date\": \"2020-04-10T00:00:00\", \"new_obs\": 33752.0, \"pred\": \"Train\"}, {\"date\": \"2020-02-20T00:00:00\", \"new_obs\": 0.2748267102438271, \"pred\": \"Predicted\"}, {\"date\": \"2020-02-21T00:00:00\", \"new_obs\": 0.41963316224367797, \"pred\": \"Predicted\"}, {\"date\": \"2020-02-22T00:00:00\", \"new_obs\": 0.6366706097018926, \"pred\": \"Predicted\"}, {\"date\": \"2020-02-23T00:00:00\", \"new_obs\": 0.9600957464627812, \"pred\": \"Predicted\"}, {\"date\": \"2020-02-24T00:00:00\", \"new_obs\": 1.439266563178238, \"pred\": \"Predicted\"}, {\"date\": \"2020-02-25T00:00:00\", \"new_obs\": 2.1450451160638204, \"pred\": \"Predicted\"}, {\"date\": \"2020-02-26T00:00:00\", \"new_obs\": 3.1784992179107294, \"pred\": \"Predicted\"}, {\"date\": \"2020-02-27T00:00:00\", \"new_obs\": 4.682821809446999, \"pred\": \"Predicted\"}, {\"date\": \"2020-02-28T00:00:00\", \"new_obs\": 6.859526886958084, \"pred\": \"Predicted\"}, {\"date\": \"2020-02-29T00:00:00\", \"new_obs\": 9.990275795328738, \"pred\": \"Predicted\"}, {\"date\": \"2020-03-01T00:00:00\", \"new_obs\": 14.466043925486531, \"pred\": \"Predicted\"}, {\"date\": \"2020-03-02T00:00:00\", \"new_obs\": 20.82576012258726, \"pred\": \"Predicted\"}, {\"date\": \"2020-03-03T00:00:00\", \"new_obs\": 29.807041067081492, \"pred\": \"Predicted\"}, {\"date\": \"2020-03-04T00:00:00\", \"new_obs\": 42.412197348431924, \"pred\": \"Predicted\"}, {\"date\": \"2020-03-05T00:00:00\", \"new_obs\": 59.99329672337136, \"pred\": \"Predicted\"}, {\"date\": \"2020-03-06T00:00:00\", \"new_obs\": 84.36071339095432, \"pred\": \"Predicted\"}, {\"date\": \"2020-03-07T00:00:00\", \"new_obs\": 117.92023784492136, \"pred\": \"Predicted\"}, {\"date\": \"2020-03-08T00:00:00\", \"new_obs\": 163.84442232810275, \"pred\": \"Predicted\"}, {\"date\": \"2020-03-09T00:00:00\", \"new_obs\": 226.2843260413077, \"pred\": \"Predicted\"}, {\"date\": \"2020-03-10T00:00:00\", \"new_obs\": 310.62429631329246, \"pred\": \"Predicted\"}, {\"date\": \"2020-03-11T00:00:00\", \"new_obs\": 423.8075378473201, \"pred\": \"Predicted\"}, {\"date\": \"2020-03-12T00:00:00\", \"new_obs\": 574.6889648719919, \"pred\": \"Predicted\"}, {\"date\": \"2020-03-13T00:00:00\", \"new_obs\": 774.481571695188, \"pred\": \"Predicted\"}, {\"date\": \"2020-03-14T00:00:00\", \"new_obs\": 1037.256719560211, \"pred\": \"Predicted\"}, {\"date\": \"2020-03-15T00:00:00\", \"new_obs\": 1374.3832961476746, \"pred\": \"Predicted\"}, {\"date\": \"2020-03-16T00:00:00\", \"new_obs\": 1801.4267904868695, \"pred\": \"Predicted\"}, {\"date\": \"2020-03-17T00:00:00\", \"new_obs\": 2335.3621728565736, \"pred\": \"Predicted\"}, {\"date\": \"2020-03-18T00:00:00\", \"new_obs\": 2994.075684526787, \"pred\": \"Predicted\"}, {\"date\": \"2020-03-19T00:00:00\", \"new_obs\": 3795.631319870532, \"pred\": \"Predicted\"}, {\"date\": \"2020-03-20T00:00:00\", \"new_obs\": 4757.285175740919, \"pred\": \"Predicted\"}, {\"date\": \"2020-03-21T00:00:00\", \"new_obs\": 5894.250509316173, \"pred\": \"Predicted\"}, {\"date\": \"2020-03-22T00:00:00\", \"new_obs\": 7218.242392024971, \"pred\": \"Predicted\"}, {\"date\": \"2020-03-23T00:00:00\", \"new_obs\": 8735.862077886459, \"pred\": \"Predicted\"}, {\"date\": \"2020-03-24T00:00:00\", \"new_obs\": 10446.915269815343, \"pred\": \"Predicted\"}, {\"date\": \"2020-03-25T00:00:00\", \"new_obs\": 12342.791840830818, \"pred\": \"Predicted\"}, {\"date\": \"2020-03-26T00:00:00\", \"new_obs\": 14405.062718610347, \"pred\": \"Predicted\"}, {\"date\": \"2020-03-27T00:00:00\", \"new_obs\": 16604.467440082168, \"pred\": \"Predicted\"}, {\"date\": \"2020-03-28T00:00:00\", \"new_obs\": 18900.468227168185, \"pred\": \"Predicted\"}, {\"date\": \"2020-03-29T00:00:00\", \"new_obs\": 21241.52907110744, \"pred\": \"Predicted\"}, {\"date\": \"2020-03-30T00:00:00\", \"new_obs\": 23566.23873450928, \"pred\": \"Predicted\"}, {\"date\": \"2020-03-31T00:00:00\", \"new_obs\": 25805.33486236424, \"pred\": \"Predicted\"}, {\"date\": \"2020-04-01T00:00:00\", \"new_obs\": 27884.605883634125, \"pred\": \"Predicted\"}, {\"date\": \"2020-04-02T00:00:00\", \"new_obs\": 29728.55462138677, \"pred\": \"Predicted\"}, {\"date\": \"2020-04-03T00:00:00\", \"new_obs\": 31264.612527740443, \"pred\": \"Predicted\"}, {\"date\": \"2020-04-04T00:00:00\", \"new_obs\": 32427.73889528908, \"pred\": \"Predicted\"}, {\"date\": \"2020-04-05T00:00:00\", \"new_obs\": 33164.64338848628, \"pred\": \"Predicted\"}, {\"date\": \"2020-04-06T00:00:00\", \"new_obs\": 33437.72276233353, \"pred\": \"Predicted\"}, {\"date\": \"2020-04-07T00:00:00\", \"new_obs\": 33228.07491575543, \"pred\": \"Predicted\"}, {\"date\": \"2020-04-08T00:00:00\", \"new_obs\": 32537.32254289838, \"pred\": \"Predicted\"}, {\"date\": \"2020-04-09T00:00:00\", \"new_obs\": 31388.023577932217, \"pred\": \"Predicted\"}, {\"date\": \"2020-04-10T00:00:00\", \"new_obs\": 29822.576386398407, \"pred\": \"Predicted\"}, {\"date\": \"2020-04-11T00:00:00\", \"new_obs\": 27900.676249163495, \"pred\": \"Predicted\"}, {\"date\": \"2020-04-12T00:00:00\", \"new_obs\": 25695.527808089842, \"pred\": \"Predicted\"}, {\"date\": \"2020-04-13T00:00:00\", \"new_obs\": 23289.146538701174, \"pred\": \"Predicted\"}, {\"date\": \"2020-04-14T00:00:00\", \"new_obs\": 20767.173773511, \"pred\": \"Predicted\"}, {\"date\": \"2020-04-15T00:00:00\", \"new_obs\": 18213.671967306873, \"pred\": \"Predicted\"}, {\"date\": \"2020-04-16T00:00:00\", \"new_obs\": 15706.354367779, \"pred\": \"Predicted\"}, {\"date\": \"2020-04-17T00:00:00\", \"new_obs\": 13312.638522948704, \"pred\": \"Predicted\"}, {\"date\": \"2020-04-18T00:00:00\", \"new_obs\": 11086.806105818137, \"pred\": \"Predicted\"}, {\"date\": \"2020-04-19T00:00:00\", \"new_obs\": 9068.418148564637, \"pred\": \"Predicted\"}, {\"date\": \"2020-04-20T00:00:00\", \"new_obs\": 7345.9467559551895, \"pred\": \"Predicted\"}, {\"date\": \"2020-04-21T00:00:00\", \"new_obs\": 5919.836636915138, \"pred\": \"Predicted\"}, {\"date\": \"2020-04-22T00:00:00\", \"new_obs\": 4740.442184378773, \"pred\": \"Predicted\"}, {\"date\": \"2020-04-23T00:00:00\", \"new_obs\": 3767.0205286851506, \"pred\": \"Predicted\"}, {\"date\": \"2020-04-24T00:00:00\", \"new_obs\": 2966.0671474268606, \"pred\": \"Predicted\"}, {\"date\": \"2020-04-25T00:00:00\", \"new_obs\": 2309.9282720637593, \"pred\": \"Predicted\"}, {\"date\": \"2020-04-26T00:00:00\", \"new_obs\": 1775.6502442467827, \"pred\": \"Predicted\"}, {\"date\": \"2020-04-27T00:00:00\", \"new_obs\": 1344.034349348709, \"pred\": \"Predicted\"}, {\"date\": \"2020-04-28T00:00:00\", \"new_obs\": 998.871316172398, \"pred\": \"Predicted\"}, {\"date\": \"2020-04-29T00:00:00\", \"new_obs\": 726.3332854425099, \"pred\": \"Predicted\"}, {\"date\": \"2020-04-30T00:00:00\", \"new_obs\": 514.5029648699358, \"pred\": \"Predicted\"}, {\"date\": \"2020-05-01T00:00:00\", \"new_obs\": 353.02039456147145, \"pred\": \"Predicted\"}, {\"date\": \"2020-05-02T00:00:00\", \"new_obs\": 232.82777929584046, \"pred\": \"Predicted\"}, {\"date\": \"2020-05-03T00:00:00\", \"new_obs\": 145.9927352575231, \"pred\": \"Predicted\"}, {\"date\": \"2020-05-04T00:00:00\", \"new_obs\": 85.59051575826412, \"pred\": \"Predicted\"}, {\"date\": \"2020-05-05T00:00:00\", \"new_obs\": 45.62667031970196, \"pred\": \"Predicted\"}, {\"date\": \"2020-05-06T00:00:00\", \"new_obs\": 20.983338938467437, \"pred\": \"Predicted\"}, {\"date\": \"2020-05-07T00:00:00\", \"new_obs\": 7.374992710390636, \"pred\": \"Predicted\"}, {\"date\": \"2020-05-08T00:00:00\", \"new_obs\": 1.3027374407966712, \"pred\": \"Predicted\"}, {\"date\": \"2020-05-09T00:00:00\", \"new_obs\": 0.0, \"pred\": \"Predicted\"}, {\"date\": \"2020-05-10T00:00:00\", \"new_obs\": 0.0, \"pred\": \"Predicted\"}, {\"date\": \"2020-05-11T00:00:00\", \"new_obs\": 0.0, \"pred\": \"Predicted\"}, {\"date\": \"2020-05-12T00:00:00\", \"new_obs\": 0.0, \"pred\": \"Predicted\"}, {\"date\": \"2020-05-13T00:00:00\", \"new_obs\": 0.0, \"pred\": \"Predicted\"}, {\"date\": \"2020-05-14T00:00:00\", \"new_obs\": 0.0, \"pred\": \"Predicted\"}, {\"date\": \"2020-05-15T00:00:00\", \"new_obs\": 0.0, \"pred\": \"Predicted\"}, {\"date\": \"2020-05-16T00:00:00\", \"new_obs\": 0.0, \"pred\": \"Predicted\"}, {\"date\": \"2020-05-17T00:00:00\", \"new_obs\": 0.0, \"pred\": \"Predicted\"}, {\"date\": \"2020-05-18T00:00:00\", \"new_obs\": 0.0, \"pred\": \"Predicted\"}, {\"date\": \"2020-05-19T00:00:00\", \"new_obs\": 0.0, \"pred\": \"Predicted\"}, {\"date\": \"2020-05-20T00:00:00\", \"new_obs\": 0.0, \"pred\": \"Predicted\"}, {\"date\": \"2020-05-21T00:00:00\", \"new_obs\": 0.0, \"pred\": \"Predicted\"}, {\"date\": \"2020-05-22T00:00:00\", \"new_obs\": 0.0, \"pred\": \"Predicted\"}, {\"date\": \"2020-05-23T00:00:00\", \"new_obs\": 0.0, \"pred\": \"Predicted\"}, {\"date\": \"2020-05-24T00:00:00\", \"new_obs\": 0.0, \"pred\": \"Predicted\"}, {\"date\": \"2020-05-25T00:00:00\", \"new_obs\": 0.0, \"pred\": \"Predicted\"}, {\"date\": \"2020-05-26T00:00:00\", \"new_obs\": 0.0, \"pred\": \"Predicted\"}, {\"date\": \"2020-05-27T00:00:00\", \"new_obs\": 0.0, \"pred\": \"Predicted\"}, {\"date\": \"2020-05-28T00:00:00\", \"new_obs\": 0.0, \"pred\": \"Predicted\"}, {\"date\": \"2020-05-29T00:00:00\", \"new_obs\": 0.0, \"pred\": \"Predicted\"}]}}, {\"mode\": \"vega-lite\"});\n",
       "</script>"
      ],
      "text/plain": [
       "alt.Chart(...)"
      ]
     },
     "execution_count": 15,
     "metadata": {},
     "output_type": "execute_result"
    }
   ],
   "source": [
    "chart2 = alt.Chart(all_dat, title = '').mark_line(size=2, point = True).encode(\n",
    "    x = alt.X(\"date\"),\n",
    "    y = alt.Y('new_obs', title = 'daily new observed cases'),\n",
    "    color = alt.Color('pred'),\n",
    "    tooltip=['date', 'new_obs']\n",
    "#     color=alt.value(\"red\")\n",
    ").interactive()\n",
    "chart2"
   ]
  },
  {
   "cell_type": "code",
   "execution_count": null,
   "metadata": {},
   "outputs": [],
   "source": []
  }
 ],
 "metadata": {
  "kernelspec": {
   "display_name": "Python 3",
   "language": "python",
   "name": "python3"
  },
  "language_info": {
   "codemirror_mode": {
    "name": "ipython",
    "version": 3
   },
   "file_extension": ".py",
   "mimetype": "text/x-python",
   "name": "python",
   "nbconvert_exporter": "python",
   "pygments_lexer": "ipython3",
   "version": "3.7.6"
  }
 },
 "nbformat": 4,
 "nbformat_minor": 2
}
